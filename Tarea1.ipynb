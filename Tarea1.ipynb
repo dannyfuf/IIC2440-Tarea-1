{
  "nbformat": 4,
  "nbformat_minor": 0,
  "metadata": {
    "colab": {
      "provenance": [],
      "machine_shape": "hm",
      "gpuType": "A100"
    },
    "kernelspec": {
      "name": "python3",
      "display_name": "Python 3"
    },
    "language_info": {
      "name": "python"
    }
  },
  "cells": [
    {
      "cell_type": "markdown",
      "source": [
        "# Tarea 1\n",
        "\n",
        "**Integrante:** Danny Fuentes"
      ],
      "metadata": {
        "id": "3y4PahnKFusO"
      }
    },
    {
      "cell_type": "markdown",
      "source": [
        "# Drive"
      ],
      "metadata": {
        "id": "cv_HvhRBD-fO"
      }
    },
    {
      "cell_type": "code",
      "source": [
        "use_drive = True\n",
        "path = \"\"\n",
        "from google.colab import drive\n",
        "if(use_drive):\n",
        "  path = \"/content/drive/MyDrive/Universidad/Procesamiento Masivo/tarea1\"\n",
        "  drive.mount('/content/drive')"
      ],
      "metadata": {
        "colab": {
          "base_uri": "https://localhost:8080/"
        },
        "id": "pbp1OTrVD-FW",
        "outputId": "3967c6a1-08b1-4f38-de2a-a6b24d72dec0"
      },
      "execution_count": 1,
      "outputs": [
        {
          "output_type": "stream",
          "name": "stdout",
          "text": [
            "Drive already mounted at /content/drive; to attempt to forcibly remount, call drive.mount(\"/content/drive\", force_remount=True).\n"
          ]
        }
      ]
    },
    {
      "cell_type": "markdown",
      "source": [
        "# Imports"
      ],
      "metadata": {
        "id": "AO5kVnVmEZCN"
      }
    },
    {
      "cell_type": "code",
      "source": [
        "!pip install emoji\n",
        "!pip install unidecode"
      ],
      "metadata": {
        "id": "pTGbcvJvNDnD",
        "colab": {
          "base_uri": "https://localhost:8080/"
        },
        "outputId": "805fc6f3-8f57-4eec-86da-5b45e9149fb4"
      },
      "execution_count": 2,
      "outputs": [
        {
          "output_type": "stream",
          "name": "stdout",
          "text": [
            "Looking in indexes: https://pypi.org/simple, https://us-python.pkg.dev/colab-wheels/public/simple/\n",
            "Requirement already satisfied: emoji in /usr/local/lib/python3.10/dist-packages (2.4.0)\n",
            "Looking in indexes: https://pypi.org/simple, https://us-python.pkg.dev/colab-wheels/public/simple/\n",
            "Requirement already satisfied: unidecode in /usr/local/lib/python3.10/dist-packages (1.3.6)\n"
          ]
        }
      ]
    },
    {
      "cell_type": "code",
      "source": [
        "import numpy as np\n",
        "import pandas as pd\n",
        "import string\n",
        "from datetime import datetime\n",
        "import emoji\n",
        "from itertools import combinations\n",
        "from unidecode import unidecode\n",
        "\n",
        "from random import shuffle\n",
        "from random import seed\n",
        "seed(42)\n",
        "\n",
        "import nltk\n",
        "from nltk import ngrams\n",
        "nltk.download('punkt')"
      ],
      "metadata": {
        "colab": {
          "base_uri": "https://localhost:8080/"
        },
        "id": "CuRY3V-NEYz7",
        "outputId": "84f47015-5582-4e38-ea93-6aa09ba8bfae"
      },
      "execution_count": 3,
      "outputs": [
        {
          "output_type": "stream",
          "name": "stderr",
          "text": [
            "[nltk_data] Downloading package punkt to /root/nltk_data...\n",
            "[nltk_data]   Package punkt is already up-to-date!\n"
          ]
        },
        {
          "output_type": "execute_result",
          "data": {
            "text/plain": [
              "True"
            ]
          },
          "metadata": {},
          "execution_count": 3
        }
      ]
    },
    {
      "cell_type": "markdown",
      "source": [
        "# Data Handling"
      ],
      "metadata": {
        "id": "Ev0solK0D3hI"
      }
    },
    {
      "cell_type": "code",
      "source": [
        "data = pd.read_csv(f'{path}/tweets_2022_abril_junio.csv')"
      ],
      "metadata": {
        "id": "D4h5E_PyFz_m"
      },
      "execution_count": 4,
      "outputs": []
    },
    {
      "cell_type": "code",
      "source": [
        "data[[\"user\", \"text\"]] = data[[\"screen_name\", \"text\"]]"
      ],
      "metadata": {
        "id": "I5DCuo8dEW7w"
      },
      "execution_count": 5,
      "outputs": []
    },
    {
      "cell_type": "code",
      "source": [
        "data = data[[\"user\", \"text\"]]"
      ],
      "metadata": {
        "id": "AdOllqQGF7ZQ"
      },
      "execution_count": 6,
      "outputs": []
    },
    {
      "cell_type": "code",
      "source": [
        "data.shape"
      ],
      "metadata": {
        "colab": {
          "base_uri": "https://localhost:8080/"
        },
        "id": "DubF3Z92WP4O",
        "outputId": "0680daf1-d96d-4f98-ee1d-c83e8529032a"
      },
      "execution_count": 7,
      "outputs": [
        {
          "output_type": "execute_result",
          "data": {
            "text/plain": [
              "(4594980, 2)"
            ]
          },
          "metadata": {},
          "execution_count": 7
        }
      ]
    },
    {
      "cell_type": "code",
      "source": [
        "data.head(3)"
      ],
      "metadata": {
        "colab": {
          "base_uri": "https://localhost:8080/",
          "height": 143
        },
        "id": "7V6QnPtaGNo2",
        "outputId": "d5fe2c53-d227-4512-fd85-67c9d82ec25f"
      },
      "execution_count": 8,
      "outputs": [
        {
          "output_type": "execute_result",
          "data": {
            "text/plain": [
              "              user                                               text\n",
              "0      h0l4d4ni3l4  RT @ValeMirandaCC: Tras casi 50 años del golpe...\n",
              "1  Claudio70932894  RT @UTDTrabajoDigno: Mañana jueves a las 18hrs...\n",
              "2       Cesar_A_RR  RT @JaimeGuajardoR: Aquí está el aporte de @te..."
            ],
            "text/html": [
              "\n",
              "  <div id=\"df-7820735b-1344-4e89-9b7e-5f8e6e89c8e0\">\n",
              "    <div class=\"colab-df-container\">\n",
              "      <div>\n",
              "<style scoped>\n",
              "    .dataframe tbody tr th:only-of-type {\n",
              "        vertical-align: middle;\n",
              "    }\n",
              "\n",
              "    .dataframe tbody tr th {\n",
              "        vertical-align: top;\n",
              "    }\n",
              "\n",
              "    .dataframe thead th {\n",
              "        text-align: right;\n",
              "    }\n",
              "</style>\n",
              "<table border=\"1\" class=\"dataframe\">\n",
              "  <thead>\n",
              "    <tr style=\"text-align: right;\">\n",
              "      <th></th>\n",
              "      <th>user</th>\n",
              "      <th>text</th>\n",
              "    </tr>\n",
              "  </thead>\n",
              "  <tbody>\n",
              "    <tr>\n",
              "      <th>0</th>\n",
              "      <td>h0l4d4ni3l4</td>\n",
              "      <td>RT @ValeMirandaCC: Tras casi 50 años del golpe...</td>\n",
              "    </tr>\n",
              "    <tr>\n",
              "      <th>1</th>\n",
              "      <td>Claudio70932894</td>\n",
              "      <td>RT @UTDTrabajoDigno: Mañana jueves a las 18hrs...</td>\n",
              "    </tr>\n",
              "    <tr>\n",
              "      <th>2</th>\n",
              "      <td>Cesar_A_RR</td>\n",
              "      <td>RT @JaimeGuajardoR: Aquí está el aporte de @te...</td>\n",
              "    </tr>\n",
              "  </tbody>\n",
              "</table>\n",
              "</div>\n",
              "      <button class=\"colab-df-convert\" onclick=\"convertToInteractive('df-7820735b-1344-4e89-9b7e-5f8e6e89c8e0')\"\n",
              "              title=\"Convert this dataframe to an interactive table.\"\n",
              "              style=\"display:none;\">\n",
              "        \n",
              "  <svg xmlns=\"http://www.w3.org/2000/svg\" height=\"24px\"viewBox=\"0 0 24 24\"\n",
              "       width=\"24px\">\n",
              "    <path d=\"M0 0h24v24H0V0z\" fill=\"none\"/>\n",
              "    <path d=\"M18.56 5.44l.94 2.06.94-2.06 2.06-.94-2.06-.94-.94-2.06-.94 2.06-2.06.94zm-11 1L8.5 8.5l.94-2.06 2.06-.94-2.06-.94L8.5 2.5l-.94 2.06-2.06.94zm10 10l.94 2.06.94-2.06 2.06-.94-2.06-.94-.94-2.06-.94 2.06-2.06.94z\"/><path d=\"M17.41 7.96l-1.37-1.37c-.4-.4-.92-.59-1.43-.59-.52 0-1.04.2-1.43.59L10.3 9.45l-7.72 7.72c-.78.78-.78 2.05 0 2.83L4 21.41c.39.39.9.59 1.41.59.51 0 1.02-.2 1.41-.59l7.78-7.78 2.81-2.81c.8-.78.8-2.07 0-2.86zM5.41 20L4 18.59l7.72-7.72 1.47 1.35L5.41 20z\"/>\n",
              "  </svg>\n",
              "      </button>\n",
              "      \n",
              "  <style>\n",
              "    .colab-df-container {\n",
              "      display:flex;\n",
              "      flex-wrap:wrap;\n",
              "      gap: 12px;\n",
              "    }\n",
              "\n",
              "    .colab-df-convert {\n",
              "      background-color: #E8F0FE;\n",
              "      border: none;\n",
              "      border-radius: 50%;\n",
              "      cursor: pointer;\n",
              "      display: none;\n",
              "      fill: #1967D2;\n",
              "      height: 32px;\n",
              "      padding: 0 0 0 0;\n",
              "      width: 32px;\n",
              "    }\n",
              "\n",
              "    .colab-df-convert:hover {\n",
              "      background-color: #E2EBFA;\n",
              "      box-shadow: 0px 1px 2px rgba(60, 64, 67, 0.3), 0px 1px 3px 1px rgba(60, 64, 67, 0.15);\n",
              "      fill: #174EA6;\n",
              "    }\n",
              "\n",
              "    [theme=dark] .colab-df-convert {\n",
              "      background-color: #3B4455;\n",
              "      fill: #D2E3FC;\n",
              "    }\n",
              "\n",
              "    [theme=dark] .colab-df-convert:hover {\n",
              "      background-color: #434B5C;\n",
              "      box-shadow: 0px 1px 3px 1px rgba(0, 0, 0, 0.15);\n",
              "      filter: drop-shadow(0px 1px 2px rgba(0, 0, 0, 0.3));\n",
              "      fill: #FFFFFF;\n",
              "    }\n",
              "  </style>\n",
              "\n",
              "      <script>\n",
              "        const buttonEl =\n",
              "          document.querySelector('#df-7820735b-1344-4e89-9b7e-5f8e6e89c8e0 button.colab-df-convert');\n",
              "        buttonEl.style.display =\n",
              "          google.colab.kernel.accessAllowed ? 'block' : 'none';\n",
              "\n",
              "        async function convertToInteractive(key) {\n",
              "          const element = document.querySelector('#df-7820735b-1344-4e89-9b7e-5f8e6e89c8e0');\n",
              "          const dataTable =\n",
              "            await google.colab.kernel.invokeFunction('convertToInteractive',\n",
              "                                                     [key], {});\n",
              "          if (!dataTable) return;\n",
              "\n",
              "          const docLinkHtml = 'Like what you see? Visit the ' +\n",
              "            '<a target=\"_blank\" href=https://colab.research.google.com/notebooks/data_table.ipynb>data table notebook</a>'\n",
              "            + ' to learn more about interactive tables.';\n",
              "          element.innerHTML = '';\n",
              "          dataTable['output_type'] = 'display_data';\n",
              "          await google.colab.output.renderOutput(dataTable, element);\n",
              "          const docLink = document.createElement('div');\n",
              "          docLink.innerHTML = docLinkHtml;\n",
              "          element.appendChild(docLink);\n",
              "        }\n",
              "      </script>\n",
              "    </div>\n",
              "  </div>\n",
              "  "
            ]
          },
          "metadata": {},
          "execution_count": 8
        }
      ]
    },
    {
      "cell_type": "code",
      "source": [
        "data.value_counts()"
      ],
      "metadata": {
        "colab": {
          "base_uri": "https://localhost:8080/"
        },
        "id": "j91f9-1LVT5R",
        "outputId": "27f35ddd-a8f6-419d-e433-d2b4e65f72c1"
      },
      "execution_count": 9,
      "outputs": [
        {
          "output_type": "execute_result",
          "data": {
            "text/plain": [
              "user           text                                                                                                                                         \n",
              "ygorayeb       RT @ygorayeb: Listo....si Teillier, el que realmente manda, no quiere retiro...100% confirmado que se los van a robar...porque comunista pr…     1617\n",
              "Miltonterasss  #RechazoDeSalida                                                                                                                                  340\n",
              "x1educalidad   #Apruebo4deSeptiembre2022 \\n#AprueboPlebiscitoDeSalida \\n#AprueboDeSalida \\n#Apruebo \\n#SiPoApruebo                                               223\n",
              "Miltonterasss  #RechazoDeSalida #RechazoElMamarracho                                                                                                             200\n",
              "ClauDePizan    #RechazoDeSalida                                                                                                                                  185\n",
              "                                                                                                                                                                ... \n",
              "ManoloYCD      RT @AgriculturaFM: “Es lo que tenía que hacer”: DC apoyó la decisión de Eduardo Frei de no ir a la ceremonia de cierre de la Convención Con…        1\n",
              "               RT @Airam5373: El Apruebo tiene a BetsyGallardo y nosotros el #Rechazo tenemos a @rocicantuarias.\\nQue gran mujer la RocíoCantuarias me repr…       1\n",
              "               RT @AlboradaDeChile: 🔴 PRIMERA PARTE: Declaración publica de la  Asociación de Radiodifusores de Chile ARCHI@donde advierten peligros de la…        1\n",
              "               RT @AlejandroMery1: Es esto legal?? @tere_marinovic \\nHoy #PuntaArenas constituyente @ElisaGiustinia1\\n se encuentra haciendo campaña por el…       1\n",
              "zzurita        RT @JorgeMolina375: Comparto mi artículo: Las 17 necedades de Axel Kaiser respecto a la Nueva Constitución https://t.co/XPF9QpqH9N @RadioTV…        1\n",
              "Length: 4549972, dtype: int64"
            ]
          },
          "metadata": {},
          "execution_count": 9
        }
      ]
    },
    {
      "cell_type": "code",
      "source": [
        "data = data.drop_duplicates(subset='text', keep='first')"
      ],
      "metadata": {
        "id": "qwIZ_JpoV9EO"
      },
      "execution_count": 10,
      "outputs": []
    },
    {
      "cell_type": "code",
      "source": [
        "data.shape"
      ],
      "metadata": {
        "colab": {
          "base_uri": "https://localhost:8080/"
        },
        "id": "bAVPYpwCWK8X",
        "outputId": "f0cd306b-e390-4cbe-bb5f-2169972d0070"
      },
      "execution_count": 11,
      "outputs": [
        {
          "output_type": "execute_result",
          "data": {
            "text/plain": [
              "(1549216, 2)"
            ]
          },
          "metadata": {},
          "execution_count": 11
        }
      ]
    },
    {
      "cell_type": "code",
      "source": [
        "def normalize(text):\n",
        "  return unidecode(text)"
      ],
      "metadata": {
        "id": "cUNW6wqBPskX"
      },
      "execution_count": 12,
      "outputs": []
    },
    {
      "cell_type": "code",
      "source": [
        "def cleanPunctuation(text):\n",
        "  tabla = str.maketrans(\"\", \"\", string.punctuation+'́')\n",
        "  return text.translate(tabla)"
      ],
      "metadata": {
        "id": "0_HtV6hua9vk"
      },
      "execution_count": 13,
      "outputs": []
    },
    {
      "cell_type": "markdown",
      "source": [
        "Limpieza de tweets.\n",
        "- Se eliminan los tags a otros usuarios\n",
        "- Se elimina la palabra RT\n",
        "- Se elimina la puntuacion\n",
        "- Se normaliza el texto, eliminar tildes y emojis\n",
        "- Se eliminan todos los tweets de usuarios que tengan menos de 20 tweets"
      ],
      "metadata": {
        "id": "cx8hkokn6cQH"
      }
    },
    {
      "cell_type": "code",
      "source": [
        "data[\"text\"] = data[\"text\"].apply(lambda line: \" \".join([word for word in line.split() if \"@\" not in word and \"RT\" not in word and \"https://\" not in word]))\n",
        "data[\"text\"] = data[\"text\"].apply(lambda line: cleanPunctuation(line))"
      ],
      "metadata": {
        "id": "ENGoE5RVRzs5"
      },
      "execution_count": 14,
      "outputs": []
    },
    {
      "cell_type": "code",
      "source": [
        "data[\"text\"] = data[\"text\"].apply(lambda line: normalize(line))\n",
        "data[\"text\"] = data[\"text\"].apply(lambda line: line.lower())\n",
        "data[\"text\"] = data[\"text\"].apply(lambda line: emoji.replace_emoji(line, replace=''))"
      ],
      "metadata": {
        "id": "E-UCL6_XTjbG"
      },
      "execution_count": 15,
      "outputs": []
    },
    {
      "cell_type": "code",
      "source": [
        "# filtrar usuarios por cantidad de tweets\n",
        "counts = data['user'].value_counts()\n",
        "\n",
        "user_filtered = counts[counts >= 20].index.tolist()\n",
        "data = data[data['user'].isin(user_filtered)]"
      ],
      "metadata": {
        "id": "LxCn4xSMq9eE"
      },
      "execution_count": 16,
      "outputs": []
    },
    {
      "cell_type": "code",
      "source": [
        "len(set(data['user']))"
      ],
      "metadata": {
        "colab": {
          "base_uri": "https://localhost:8080/"
        },
        "id": "aFjrZ_4xrFk1",
        "outputId": "1c3a9813-a3ef-4881-d656-4dbffc005036"
      },
      "execution_count": 17,
      "outputs": [
        {
          "output_type": "execute_result",
          "data": {
            "text/plain": [
              "16876"
            ]
          },
          "metadata": {},
          "execution_count": 17
        }
      ]
    },
    {
      "cell_type": "code",
      "source": [
        "data.shape"
      ],
      "metadata": {
        "colab": {
          "base_uri": "https://localhost:8080/"
        },
        "id": "gxEfNG5ZrtjD",
        "outputId": "4a75083f-2746-4a62-aad4-15843e65d36a"
      },
      "execution_count": 18,
      "outputs": [
        {
          "output_type": "execute_result",
          "data": {
            "text/plain": [
              "(1099386, 2)"
            ]
          },
          "metadata": {},
          "execution_count": 18
        }
      ]
    },
    {
      "cell_type": "markdown",
      "source": [
        "# Generating Vocab"
      ],
      "metadata": {
        "id": "xK4O96tHUCKn"
      }
    },
    {
      "cell_type": "markdown",
      "source": [
        "### Generating Shingles"
      ],
      "metadata": {
        "id": "uzmTX982iGba"
      }
    },
    {
      "cell_type": "markdown",
      "source": [
        "Debido a lo masivo de los datos, preferí un enfoque de generar shingles por palabras, en este caso, me quede con largo 1 para hacerlo mas simple."
      ],
      "metadata": {
        "id": "3T3Tst6i63Gh"
      }
    },
    {
      "cell_type": "code",
      "source": [
        "k = 1\n",
        "data[\"shingles\"] = data[\"text\"].apply(lambda line: [\" \".join(x) for x in list(set(ngrams(line.split(), k)))])"
      ],
      "metadata": {
        "id": "V_QdrZPxYmLe"
      },
      "execution_count": 19,
      "outputs": []
    },
    {
      "cell_type": "code",
      "source": [
        "data.head(3)"
      ],
      "metadata": {
        "colab": {
          "base_uri": "https://localhost:8080/",
          "height": 143
        },
        "id": "pXHxDmbVYILx",
        "outputId": "7ec1fe8e-5564-4469-9a6e-db10447c8dce"
      },
      "execution_count": 20,
      "outputs": [
        {
          "output_type": "execute_result",
          "data": {
            "text/plain": [
              "            user                                               text  \\\n",
              "2     Cesar_A_RR  aqui esta el aporte de con respecto a los dere...   \n",
              "4      GQuelluen  ante la circulacion de noticias falsas les qui...   \n",
              "7  MariliaBloden  perdon pero viene faltando a la verdad desde l...   \n",
              "\n",
              "                                            shingles  \n",
              "2  [que, negan..., de, respecto, los, nueva, esta...  \n",
              "4  [falsas, les, noticias, de, circulacion, mis, ...  \n",
              "7  [semana, verific..., perdon, de, tuvo, pero, v...  "
            ],
            "text/html": [
              "\n",
              "  <div id=\"df-ce7d1612-4033-44ce-9be4-2ab8491609f5\">\n",
              "    <div class=\"colab-df-container\">\n",
              "      <div>\n",
              "<style scoped>\n",
              "    .dataframe tbody tr th:only-of-type {\n",
              "        vertical-align: middle;\n",
              "    }\n",
              "\n",
              "    .dataframe tbody tr th {\n",
              "        vertical-align: top;\n",
              "    }\n",
              "\n",
              "    .dataframe thead th {\n",
              "        text-align: right;\n",
              "    }\n",
              "</style>\n",
              "<table border=\"1\" class=\"dataframe\">\n",
              "  <thead>\n",
              "    <tr style=\"text-align: right;\">\n",
              "      <th></th>\n",
              "      <th>user</th>\n",
              "      <th>text</th>\n",
              "      <th>shingles</th>\n",
              "    </tr>\n",
              "  </thead>\n",
              "  <tbody>\n",
              "    <tr>\n",
              "      <th>2</th>\n",
              "      <td>Cesar_A_RR</td>\n",
              "      <td>aqui esta el aporte de con respecto a los dere...</td>\n",
              "      <td>[que, negan..., de, respecto, los, nueva, esta...</td>\n",
              "    </tr>\n",
              "    <tr>\n",
              "      <th>4</th>\n",
              "      <td>GQuelluen</td>\n",
              "      <td>ante la circulacion de noticias falsas les qui...</td>\n",
              "      <td>[falsas, les, noticias, de, circulacion, mis, ...</td>\n",
              "    </tr>\n",
              "    <tr>\n",
              "      <th>7</th>\n",
              "      <td>MariliaBloden</td>\n",
              "      <td>perdon pero viene faltando a la verdad desde l...</td>\n",
              "      <td>[semana, verific..., perdon, de, tuvo, pero, v...</td>\n",
              "    </tr>\n",
              "  </tbody>\n",
              "</table>\n",
              "</div>\n",
              "      <button class=\"colab-df-convert\" onclick=\"convertToInteractive('df-ce7d1612-4033-44ce-9be4-2ab8491609f5')\"\n",
              "              title=\"Convert this dataframe to an interactive table.\"\n",
              "              style=\"display:none;\">\n",
              "        \n",
              "  <svg xmlns=\"http://www.w3.org/2000/svg\" height=\"24px\"viewBox=\"0 0 24 24\"\n",
              "       width=\"24px\">\n",
              "    <path d=\"M0 0h24v24H0V0z\" fill=\"none\"/>\n",
              "    <path d=\"M18.56 5.44l.94 2.06.94-2.06 2.06-.94-2.06-.94-.94-2.06-.94 2.06-2.06.94zm-11 1L8.5 8.5l.94-2.06 2.06-.94-2.06-.94L8.5 2.5l-.94 2.06-2.06.94zm10 10l.94 2.06.94-2.06 2.06-.94-2.06-.94-.94-2.06-.94 2.06-2.06.94z\"/><path d=\"M17.41 7.96l-1.37-1.37c-.4-.4-.92-.59-1.43-.59-.52 0-1.04.2-1.43.59L10.3 9.45l-7.72 7.72c-.78.78-.78 2.05 0 2.83L4 21.41c.39.39.9.59 1.41.59.51 0 1.02-.2 1.41-.59l7.78-7.78 2.81-2.81c.8-.78.8-2.07 0-2.86zM5.41 20L4 18.59l7.72-7.72 1.47 1.35L5.41 20z\"/>\n",
              "  </svg>\n",
              "      </button>\n",
              "      \n",
              "  <style>\n",
              "    .colab-df-container {\n",
              "      display:flex;\n",
              "      flex-wrap:wrap;\n",
              "      gap: 12px;\n",
              "    }\n",
              "\n",
              "    .colab-df-convert {\n",
              "      background-color: #E8F0FE;\n",
              "      border: none;\n",
              "      border-radius: 50%;\n",
              "      cursor: pointer;\n",
              "      display: none;\n",
              "      fill: #1967D2;\n",
              "      height: 32px;\n",
              "      padding: 0 0 0 0;\n",
              "      width: 32px;\n",
              "    }\n",
              "\n",
              "    .colab-df-convert:hover {\n",
              "      background-color: #E2EBFA;\n",
              "      box-shadow: 0px 1px 2px rgba(60, 64, 67, 0.3), 0px 1px 3px 1px rgba(60, 64, 67, 0.15);\n",
              "      fill: #174EA6;\n",
              "    }\n",
              "\n",
              "    [theme=dark] .colab-df-convert {\n",
              "      background-color: #3B4455;\n",
              "      fill: #D2E3FC;\n",
              "    }\n",
              "\n",
              "    [theme=dark] .colab-df-convert:hover {\n",
              "      background-color: #434B5C;\n",
              "      box-shadow: 0px 1px 3px 1px rgba(0, 0, 0, 0.15);\n",
              "      filter: drop-shadow(0px 1px 2px rgba(0, 0, 0, 0.3));\n",
              "      fill: #FFFFFF;\n",
              "    }\n",
              "  </style>\n",
              "\n",
              "      <script>\n",
              "        const buttonEl =\n",
              "          document.querySelector('#df-ce7d1612-4033-44ce-9be4-2ab8491609f5 button.colab-df-convert');\n",
              "        buttonEl.style.display =\n",
              "          google.colab.kernel.accessAllowed ? 'block' : 'none';\n",
              "\n",
              "        async function convertToInteractive(key) {\n",
              "          const element = document.querySelector('#df-ce7d1612-4033-44ce-9be4-2ab8491609f5');\n",
              "          const dataTable =\n",
              "            await google.colab.kernel.invokeFunction('convertToInteractive',\n",
              "                                                     [key], {});\n",
              "          if (!dataTable) return;\n",
              "\n",
              "          const docLinkHtml = 'Like what you see? Visit the ' +\n",
              "            '<a target=\"_blank\" href=https://colab.research.google.com/notebooks/data_table.ipynb>data table notebook</a>'\n",
              "            + ' to learn more about interactive tables.';\n",
              "          element.innerHTML = '';\n",
              "          dataTable['output_type'] = 'display_data';\n",
              "          await google.colab.output.renderOutput(dataTable, element);\n",
              "          const docLink = document.createElement('div');\n",
              "          docLink.innerHTML = docLinkHtml;\n",
              "          element.appendChild(docLink);\n",
              "        }\n",
              "      </script>\n",
              "    </div>\n",
              "  </div>\n",
              "  "
            ]
          },
          "metadata": {},
          "execution_count": 20
        }
      ]
    },
    {
      "cell_type": "code",
      "source": [
        "def save_df_tocsv(df, prefix=\"signatures\"):\n",
        "  timestamp = datetime.now().strftime(\"%Y%m%d%H%M%S\")\n",
        "  output_file = f\"{path}/{prefix}_{timestamp}.csv\"\n",
        "  df.to_csv(output_file, index=False)"
      ],
      "metadata": {
        "id": "Q-WM2EcijBFW"
      },
      "execution_count": 21,
      "outputs": []
    },
    {
      "cell_type": "markdown",
      "source": [
        "### Generating Vocab"
      ],
      "metadata": {
        "id": "3JOdvmYciKBf"
      }
    },
    {
      "cell_type": "markdown",
      "source": [
        "Generacion de vocabulario, se toma un conjunto sin repeticiones de todas las palabras."
      ],
      "metadata": {
        "id": "SD7zt2yh7IAq"
      }
    },
    {
      "cell_type": "code",
      "source": [
        "vocab = data['shingles'].explode()"
      ],
      "metadata": {
        "id": "IX-i2o7xMJu8"
      },
      "execution_count": 22,
      "outputs": []
    },
    {
      "cell_type": "code",
      "source": [
        "vocab = list(set(vocab))"
      ],
      "metadata": {
        "id": "n3AbRcBUWrOj"
      },
      "execution_count": 23,
      "outputs": []
    },
    {
      "cell_type": "code",
      "source": [
        "len(vocab)"
      ],
      "metadata": {
        "colab": {
          "base_uri": "https://localhost:8080/"
        },
        "id": "AvEIhuWAZUDk",
        "outputId": "938fa33c-4ae6-4584-e41a-ff8920c86347"
      },
      "execution_count": 24,
      "outputs": [
        {
          "output_type": "execute_result",
          "data": {
            "text/plain": [
              "217583"
            ]
          },
          "metadata": {},
          "execution_count": 24
        }
      ]
    },
    {
      "cell_type": "code",
      "source": [
        "vocab_map = {}\n",
        "for i in range(len(vocab)):\n",
        "  vocab_map[vocab[i]] = i"
      ],
      "metadata": {
        "id": "Ky_kxxRIMJs5"
      },
      "execution_count": 25,
      "outputs": []
    },
    {
      "cell_type": "code",
      "source": [
        "len_vocab = len(vocab_map.keys())\n",
        "len_vocab"
      ],
      "metadata": {
        "colab": {
          "base_uri": "https://localhost:8080/"
        },
        "id": "1fB2vBiOTCAu",
        "outputId": "283fdb0c-bfff-435c-d297-331fc522aa88"
      },
      "execution_count": 26,
      "outputs": [
        {
          "output_type": "execute_result",
          "data": {
            "text/plain": [
              "217583"
            ]
          },
          "metadata": {},
          "execution_count": 26
        }
      ]
    },
    {
      "cell_type": "code",
      "source": [
        "# vocab = None"
      ],
      "metadata": {
        "id": "japVEAhLDX5U"
      },
      "execution_count": 27,
      "outputs": []
    },
    {
      "cell_type": "code",
      "source": [
        "# data = data.drop(\"text\", axis=1)"
      ],
      "metadata": {
        "id": "IlczVMBORbE2"
      },
      "execution_count": 28,
      "outputs": []
    },
    {
      "cell_type": "markdown",
      "source": [
        "# Signatures"
      ],
      "metadata": {
        "id": "qPqkGuXjiglh"
      }
    },
    {
      "cell_type": "markdown",
      "source": [
        "Generacion de funciones de hashing universal. Basado en la explicaciones y codigo de un articulo de pinecone.\n",
        "https://www.pinecone.io/learn/locality-sensitive-hashing/"
      ],
      "metadata": {
        "id": "zfzzubGd7PuD"
      }
    },
    {
      "cell_type": "code",
      "source": [
        "def create_hash_func(size):\n",
        "    hash_ex = list(range(1, size+1))\n",
        "    shuffle(hash_ex)\n",
        "    shuffle_dict = {}\n",
        "    for i in range(len(hash_ex)):\n",
        "      shuffle_dict[i] = hash_ex[i]\n",
        "    return shuffle_dict\n",
        "\n",
        "def build_minhash_func(vocab_size, nbits):\n",
        "    hashes = []\n",
        "    for _ in range(nbits):\n",
        "        hashes.append(create_hash_func(vocab_size))\n",
        "    return hashes"
      ],
      "metadata": {
        "id": "sMjKBSFgSEE5"
      },
      "execution_count": 29,
      "outputs": []
    },
    {
      "cell_type": "markdown",
      "source": [
        "Se define que el largo de las firmas será de 64, estuve probando con valores cercanos a 100 pero el tiempo de computo vs el resultado no era tan significativo."
      ],
      "metadata": {
        "id": "_Gns2GgO7dWO"
      }
    },
    {
      "cell_type": "code",
      "source": [
        "n = 64"
      ],
      "metadata": {
        "id": "aJwlqI5290Iv"
      },
      "execution_count": 30,
      "outputs": []
    },
    {
      "cell_type": "code",
      "source": [
        "seed(42)\n",
        "minhash_func = build_minhash_func(len_vocab, n)"
      ],
      "metadata": {
        "id": "cImErUVYSxya"
      },
      "execution_count": 31,
      "outputs": []
    },
    {
      "cell_type": "code",
      "source": [
        "def get_signature(row, minhash_func):\n",
        "  signature = \"\"\n",
        "\n",
        "  for minhash in minhash_func:\n",
        "    min = np.inf\n",
        "    for shingle in row[\"shingles\"]:\n",
        "      vocab_index = vocab_map[shingle]\n",
        "      shingle_minhash = minhash[vocab_index]\n",
        "      if shingle_minhash < min:\n",
        "        min = shingle_minhash\n",
        "    signature += str(min) + \" \"\n",
        "  return signature"
      ],
      "metadata": {
        "id": "Q6SEuI63S8TW"
      },
      "execution_count": 32,
      "outputs": []
    },
    {
      "cell_type": "code",
      "source": [
        "data.head(3)"
      ],
      "metadata": {
        "colab": {
          "base_uri": "https://localhost:8080/",
          "height": 143
        },
        "id": "ucUgSOdITRFJ",
        "outputId": "9e469a2d-6efe-4290-cf9b-7cc8d85c6e7a"
      },
      "execution_count": 33,
      "outputs": [
        {
          "output_type": "execute_result",
          "data": {
            "text/plain": [
              "            user                                               text  \\\n",
              "2     Cesar_A_RR  aqui esta el aporte de con respecto a los dere...   \n",
              "4      GQuelluen  ante la circulacion de noticias falsas les qui...   \n",
              "7  MariliaBloden  perdon pero viene faltando a la verdad desde l...   \n",
              "\n",
              "                                            shingles  \n",
              "2  [que, negan..., de, respecto, los, nueva, esta...  \n",
              "4  [falsas, les, noticias, de, circulacion, mis, ...  \n",
              "7  [semana, verific..., perdon, de, tuvo, pero, v...  "
            ],
            "text/html": [
              "\n",
              "  <div id=\"df-6a45b7d9-93ce-4249-b557-0424f972aab3\">\n",
              "    <div class=\"colab-df-container\">\n",
              "      <div>\n",
              "<style scoped>\n",
              "    .dataframe tbody tr th:only-of-type {\n",
              "        vertical-align: middle;\n",
              "    }\n",
              "\n",
              "    .dataframe tbody tr th {\n",
              "        vertical-align: top;\n",
              "    }\n",
              "\n",
              "    .dataframe thead th {\n",
              "        text-align: right;\n",
              "    }\n",
              "</style>\n",
              "<table border=\"1\" class=\"dataframe\">\n",
              "  <thead>\n",
              "    <tr style=\"text-align: right;\">\n",
              "      <th></th>\n",
              "      <th>user</th>\n",
              "      <th>text</th>\n",
              "      <th>shingles</th>\n",
              "    </tr>\n",
              "  </thead>\n",
              "  <tbody>\n",
              "    <tr>\n",
              "      <th>2</th>\n",
              "      <td>Cesar_A_RR</td>\n",
              "      <td>aqui esta el aporte de con respecto a los dere...</td>\n",
              "      <td>[que, negan..., de, respecto, los, nueva, esta...</td>\n",
              "    </tr>\n",
              "    <tr>\n",
              "      <th>4</th>\n",
              "      <td>GQuelluen</td>\n",
              "      <td>ante la circulacion de noticias falsas les qui...</td>\n",
              "      <td>[falsas, les, noticias, de, circulacion, mis, ...</td>\n",
              "    </tr>\n",
              "    <tr>\n",
              "      <th>7</th>\n",
              "      <td>MariliaBloden</td>\n",
              "      <td>perdon pero viene faltando a la verdad desde l...</td>\n",
              "      <td>[semana, verific..., perdon, de, tuvo, pero, v...</td>\n",
              "    </tr>\n",
              "  </tbody>\n",
              "</table>\n",
              "</div>\n",
              "      <button class=\"colab-df-convert\" onclick=\"convertToInteractive('df-6a45b7d9-93ce-4249-b557-0424f972aab3')\"\n",
              "              title=\"Convert this dataframe to an interactive table.\"\n",
              "              style=\"display:none;\">\n",
              "        \n",
              "  <svg xmlns=\"http://www.w3.org/2000/svg\" height=\"24px\"viewBox=\"0 0 24 24\"\n",
              "       width=\"24px\">\n",
              "    <path d=\"M0 0h24v24H0V0z\" fill=\"none\"/>\n",
              "    <path d=\"M18.56 5.44l.94 2.06.94-2.06 2.06-.94-2.06-.94-.94-2.06-.94 2.06-2.06.94zm-11 1L8.5 8.5l.94-2.06 2.06-.94-2.06-.94L8.5 2.5l-.94 2.06-2.06.94zm10 10l.94 2.06.94-2.06 2.06-.94-2.06-.94-.94-2.06-.94 2.06-2.06.94z\"/><path d=\"M17.41 7.96l-1.37-1.37c-.4-.4-.92-.59-1.43-.59-.52 0-1.04.2-1.43.59L10.3 9.45l-7.72 7.72c-.78.78-.78 2.05 0 2.83L4 21.41c.39.39.9.59 1.41.59.51 0 1.02-.2 1.41-.59l7.78-7.78 2.81-2.81c.8-.78.8-2.07 0-2.86zM5.41 20L4 18.59l7.72-7.72 1.47 1.35L5.41 20z\"/>\n",
              "  </svg>\n",
              "      </button>\n",
              "      \n",
              "  <style>\n",
              "    .colab-df-container {\n",
              "      display:flex;\n",
              "      flex-wrap:wrap;\n",
              "      gap: 12px;\n",
              "    }\n",
              "\n",
              "    .colab-df-convert {\n",
              "      background-color: #E8F0FE;\n",
              "      border: none;\n",
              "      border-radius: 50%;\n",
              "      cursor: pointer;\n",
              "      display: none;\n",
              "      fill: #1967D2;\n",
              "      height: 32px;\n",
              "      padding: 0 0 0 0;\n",
              "      width: 32px;\n",
              "    }\n",
              "\n",
              "    .colab-df-convert:hover {\n",
              "      background-color: #E2EBFA;\n",
              "      box-shadow: 0px 1px 2px rgba(60, 64, 67, 0.3), 0px 1px 3px 1px rgba(60, 64, 67, 0.15);\n",
              "      fill: #174EA6;\n",
              "    }\n",
              "\n",
              "    [theme=dark] .colab-df-convert {\n",
              "      background-color: #3B4455;\n",
              "      fill: #D2E3FC;\n",
              "    }\n",
              "\n",
              "    [theme=dark] .colab-df-convert:hover {\n",
              "      background-color: #434B5C;\n",
              "      box-shadow: 0px 1px 3px 1px rgba(0, 0, 0, 0.15);\n",
              "      filter: drop-shadow(0px 1px 2px rgba(0, 0, 0, 0.3));\n",
              "      fill: #FFFFFF;\n",
              "    }\n",
              "  </style>\n",
              "\n",
              "      <script>\n",
              "        const buttonEl =\n",
              "          document.querySelector('#df-6a45b7d9-93ce-4249-b557-0424f972aab3 button.colab-df-convert');\n",
              "        buttonEl.style.display =\n",
              "          google.colab.kernel.accessAllowed ? 'block' : 'none';\n",
              "\n",
              "        async function convertToInteractive(key) {\n",
              "          const element = document.querySelector('#df-6a45b7d9-93ce-4249-b557-0424f972aab3');\n",
              "          const dataTable =\n",
              "            await google.colab.kernel.invokeFunction('convertToInteractive',\n",
              "                                                     [key], {});\n",
              "          if (!dataTable) return;\n",
              "\n",
              "          const docLinkHtml = 'Like what you see? Visit the ' +\n",
              "            '<a target=\"_blank\" href=https://colab.research.google.com/notebooks/data_table.ipynb>data table notebook</a>'\n",
              "            + ' to learn more about interactive tables.';\n",
              "          element.innerHTML = '';\n",
              "          dataTable['output_type'] = 'display_data';\n",
              "          await google.colab.output.renderOutput(dataTable, element);\n",
              "          const docLink = document.createElement('div');\n",
              "          docLink.innerHTML = docLinkHtml;\n",
              "          element.appendChild(docLink);\n",
              "        }\n",
              "      </script>\n",
              "    </div>\n",
              "  </div>\n",
              "  "
            ]
          },
          "metadata": {},
          "execution_count": 33
        }
      ]
    },
    {
      "cell_type": "code",
      "source": [
        "data.shape"
      ],
      "metadata": {
        "colab": {
          "base_uri": "https://localhost:8080/"
        },
        "id": "TWQHSKQYX_Dl",
        "outputId": "faf7fed0-97b8-4d99-c172-93322e4e008d"
      },
      "execution_count": 34,
      "outputs": [
        {
          "output_type": "execute_result",
          "data": {
            "text/plain": [
              "(1099386, 3)"
            ]
          },
          "metadata": {},
          "execution_count": 34
        }
      ]
    },
    {
      "cell_type": "markdown",
      "source": [
        "Generación de las firmas"
      ],
      "metadata": {
        "id": "QrYyAxBI7qIL"
      }
    },
    {
      "cell_type": "code",
      "source": [
        "# %%time\n",
        "data[\"signature\"] = data.apply(lambda row: get_signature(row, minhash_func), axis=1)"
      ],
      "metadata": {
        "id": "Imi61wYiT2pN"
      },
      "execution_count": 35,
      "outputs": []
    },
    {
      "cell_type": "code",
      "source": [
        "save_df_tocsv(data, \"signatures\")"
      ],
      "metadata": {
        "id": "8haGxCnngaas"
      },
      "execution_count": 36,
      "outputs": []
    },
    {
      "cell_type": "code",
      "source": [
        "data.head(3)"
      ],
      "metadata": {
        "id": "qTngdYpEhAAw",
        "colab": {
          "base_uri": "https://localhost:8080/",
          "height": 143
        },
        "outputId": "e3288437-148b-435b-8796-9bb5ecab50bd"
      },
      "execution_count": 37,
      "outputs": [
        {
          "output_type": "execute_result",
          "data": {
            "text/plain": [
              "            user                                               text  \\\n",
              "2     Cesar_A_RR  aqui esta el aporte de con respecto a los dere...   \n",
              "4      GQuelluen  ante la circulacion de noticias falsas les qui...   \n",
              "7  MariliaBloden  perdon pero viene faltando a la verdad desde l...   \n",
              "\n",
              "                                            shingles  \\\n",
              "2  [que, negan..., de, respecto, los, nueva, esta...   \n",
              "4  [falsas, les, noticias, de, circulacion, mis, ...   \n",
              "7  [semana, verific..., perdon, de, tuvo, pero, v...   \n",
              "\n",
              "                                           signature  \n",
              "2  15607 6120 10889 29762 213 4639 1878 11697 156...  \n",
              "4  9146 4058 6968 6813 26780 16581 14921 11697 60...  \n",
              "7  15607 2052 11942 12320 26780 7774 4691 1410 76...  "
            ],
            "text/html": [
              "\n",
              "  <div id=\"df-66a3a1b3-0d44-4d06-a8d5-bfec0366481c\">\n",
              "    <div class=\"colab-df-container\">\n",
              "      <div>\n",
              "<style scoped>\n",
              "    .dataframe tbody tr th:only-of-type {\n",
              "        vertical-align: middle;\n",
              "    }\n",
              "\n",
              "    .dataframe tbody tr th {\n",
              "        vertical-align: top;\n",
              "    }\n",
              "\n",
              "    .dataframe thead th {\n",
              "        text-align: right;\n",
              "    }\n",
              "</style>\n",
              "<table border=\"1\" class=\"dataframe\">\n",
              "  <thead>\n",
              "    <tr style=\"text-align: right;\">\n",
              "      <th></th>\n",
              "      <th>user</th>\n",
              "      <th>text</th>\n",
              "      <th>shingles</th>\n",
              "      <th>signature</th>\n",
              "    </tr>\n",
              "  </thead>\n",
              "  <tbody>\n",
              "    <tr>\n",
              "      <th>2</th>\n",
              "      <td>Cesar_A_RR</td>\n",
              "      <td>aqui esta el aporte de con respecto a los dere...</td>\n",
              "      <td>[que, negan..., de, respecto, los, nueva, esta...</td>\n",
              "      <td>15607 6120 10889 29762 213 4639 1878 11697 156...</td>\n",
              "    </tr>\n",
              "    <tr>\n",
              "      <th>4</th>\n",
              "      <td>GQuelluen</td>\n",
              "      <td>ante la circulacion de noticias falsas les qui...</td>\n",
              "      <td>[falsas, les, noticias, de, circulacion, mis, ...</td>\n",
              "      <td>9146 4058 6968 6813 26780 16581 14921 11697 60...</td>\n",
              "    </tr>\n",
              "    <tr>\n",
              "      <th>7</th>\n",
              "      <td>MariliaBloden</td>\n",
              "      <td>perdon pero viene faltando a la verdad desde l...</td>\n",
              "      <td>[semana, verific..., perdon, de, tuvo, pero, v...</td>\n",
              "      <td>15607 2052 11942 12320 26780 7774 4691 1410 76...</td>\n",
              "    </tr>\n",
              "  </tbody>\n",
              "</table>\n",
              "</div>\n",
              "      <button class=\"colab-df-convert\" onclick=\"convertToInteractive('df-66a3a1b3-0d44-4d06-a8d5-bfec0366481c')\"\n",
              "              title=\"Convert this dataframe to an interactive table.\"\n",
              "              style=\"display:none;\">\n",
              "        \n",
              "  <svg xmlns=\"http://www.w3.org/2000/svg\" height=\"24px\"viewBox=\"0 0 24 24\"\n",
              "       width=\"24px\">\n",
              "    <path d=\"M0 0h24v24H0V0z\" fill=\"none\"/>\n",
              "    <path d=\"M18.56 5.44l.94 2.06.94-2.06 2.06-.94-2.06-.94-.94-2.06-.94 2.06-2.06.94zm-11 1L8.5 8.5l.94-2.06 2.06-.94-2.06-.94L8.5 2.5l-.94 2.06-2.06.94zm10 10l.94 2.06.94-2.06 2.06-.94-2.06-.94-.94-2.06-.94 2.06-2.06.94z\"/><path d=\"M17.41 7.96l-1.37-1.37c-.4-.4-.92-.59-1.43-.59-.52 0-1.04.2-1.43.59L10.3 9.45l-7.72 7.72c-.78.78-.78 2.05 0 2.83L4 21.41c.39.39.9.59 1.41.59.51 0 1.02-.2 1.41-.59l7.78-7.78 2.81-2.81c.8-.78.8-2.07 0-2.86zM5.41 20L4 18.59l7.72-7.72 1.47 1.35L5.41 20z\"/>\n",
              "  </svg>\n",
              "      </button>\n",
              "      \n",
              "  <style>\n",
              "    .colab-df-container {\n",
              "      display:flex;\n",
              "      flex-wrap:wrap;\n",
              "      gap: 12px;\n",
              "    }\n",
              "\n",
              "    .colab-df-convert {\n",
              "      background-color: #E8F0FE;\n",
              "      border: none;\n",
              "      border-radius: 50%;\n",
              "      cursor: pointer;\n",
              "      display: none;\n",
              "      fill: #1967D2;\n",
              "      height: 32px;\n",
              "      padding: 0 0 0 0;\n",
              "      width: 32px;\n",
              "    }\n",
              "\n",
              "    .colab-df-convert:hover {\n",
              "      background-color: #E2EBFA;\n",
              "      box-shadow: 0px 1px 2px rgba(60, 64, 67, 0.3), 0px 1px 3px 1px rgba(60, 64, 67, 0.15);\n",
              "      fill: #174EA6;\n",
              "    }\n",
              "\n",
              "    [theme=dark] .colab-df-convert {\n",
              "      background-color: #3B4455;\n",
              "      fill: #D2E3FC;\n",
              "    }\n",
              "\n",
              "    [theme=dark] .colab-df-convert:hover {\n",
              "      background-color: #434B5C;\n",
              "      box-shadow: 0px 1px 3px 1px rgba(0, 0, 0, 0.15);\n",
              "      filter: drop-shadow(0px 1px 2px rgba(0, 0, 0, 0.3));\n",
              "      fill: #FFFFFF;\n",
              "    }\n",
              "  </style>\n",
              "\n",
              "      <script>\n",
              "        const buttonEl =\n",
              "          document.querySelector('#df-66a3a1b3-0d44-4d06-a8d5-bfec0366481c button.colab-df-convert');\n",
              "        buttonEl.style.display =\n",
              "          google.colab.kernel.accessAllowed ? 'block' : 'none';\n",
              "\n",
              "        async function convertToInteractive(key) {\n",
              "          const element = document.querySelector('#df-66a3a1b3-0d44-4d06-a8d5-bfec0366481c');\n",
              "          const dataTable =\n",
              "            await google.colab.kernel.invokeFunction('convertToInteractive',\n",
              "                                                     [key], {});\n",
              "          if (!dataTable) return;\n",
              "\n",
              "          const docLinkHtml = 'Like what you see? Visit the ' +\n",
              "            '<a target=\"_blank\" href=https://colab.research.google.com/notebooks/data_table.ipynb>data table notebook</a>'\n",
              "            + ' to learn more about interactive tables.';\n",
              "          element.innerHTML = '';\n",
              "          dataTable['output_type'] = 'display_data';\n",
              "          await google.colab.output.renderOutput(dataTable, element);\n",
              "          const docLink = document.createElement('div');\n",
              "          docLink.innerHTML = docLinkHtml;\n",
              "          element.appendChild(docLink);\n",
              "        }\n",
              "      </script>\n",
              "    </div>\n",
              "  </div>\n",
              "  "
            ]
          },
          "metadata": {},
          "execution_count": 37
        }
      ]
    },
    {
      "cell_type": "code",
      "source": [
        "# data = data[[\"user\", \"signature\"]]"
      ],
      "metadata": {
        "id": "9VEvl1Uzz1Bs"
      },
      "execution_count": 38,
      "outputs": []
    },
    {
      "cell_type": "markdown",
      "source": [
        "# LSH"
      ],
      "metadata": {
        "id": "ofscqx2I7vnJ"
      }
    },
    {
      "cell_type": "code",
      "source": [
        "# data = pd.read_csv(f\"{path}/signatures_20230607050147.csv\")"
      ],
      "metadata": {
        "id": "xaY6ZQ-3Ajuz"
      },
      "execution_count": 39,
      "outputs": []
    },
    {
      "cell_type": "code",
      "source": [
        "data.head(1)"
      ],
      "metadata": {
        "colab": {
          "base_uri": "https://localhost:8080/",
          "height": 81
        },
        "id": "AvkEkpvaBAF-",
        "outputId": "19f51f4d-f178-4e25-f650-394457a2bddb"
      },
      "execution_count": 40,
      "outputs": [
        {
          "output_type": "execute_result",
          "data": {
            "text/plain": [
              "         user                                               text  \\\n",
              "2  Cesar_A_RR  aqui esta el aporte de con respecto a los dere...   \n",
              "\n",
              "                                            shingles  \\\n",
              "2  [que, negan..., de, respecto, los, nueva, esta...   \n",
              "\n",
              "                                           signature  \n",
              "2  15607 6120 10889 29762 213 4639 1878 11697 156...  "
            ],
            "text/html": [
              "\n",
              "  <div id=\"df-779fdd50-e584-43b2-895b-548669a3c53d\">\n",
              "    <div class=\"colab-df-container\">\n",
              "      <div>\n",
              "<style scoped>\n",
              "    .dataframe tbody tr th:only-of-type {\n",
              "        vertical-align: middle;\n",
              "    }\n",
              "\n",
              "    .dataframe tbody tr th {\n",
              "        vertical-align: top;\n",
              "    }\n",
              "\n",
              "    .dataframe thead th {\n",
              "        text-align: right;\n",
              "    }\n",
              "</style>\n",
              "<table border=\"1\" class=\"dataframe\">\n",
              "  <thead>\n",
              "    <tr style=\"text-align: right;\">\n",
              "      <th></th>\n",
              "      <th>user</th>\n",
              "      <th>text</th>\n",
              "      <th>shingles</th>\n",
              "      <th>signature</th>\n",
              "    </tr>\n",
              "  </thead>\n",
              "  <tbody>\n",
              "    <tr>\n",
              "      <th>2</th>\n",
              "      <td>Cesar_A_RR</td>\n",
              "      <td>aqui esta el aporte de con respecto a los dere...</td>\n",
              "      <td>[que, negan..., de, respecto, los, nueva, esta...</td>\n",
              "      <td>15607 6120 10889 29762 213 4639 1878 11697 156...</td>\n",
              "    </tr>\n",
              "  </tbody>\n",
              "</table>\n",
              "</div>\n",
              "      <button class=\"colab-df-convert\" onclick=\"convertToInteractive('df-779fdd50-e584-43b2-895b-548669a3c53d')\"\n",
              "              title=\"Convert this dataframe to an interactive table.\"\n",
              "              style=\"display:none;\">\n",
              "        \n",
              "  <svg xmlns=\"http://www.w3.org/2000/svg\" height=\"24px\"viewBox=\"0 0 24 24\"\n",
              "       width=\"24px\">\n",
              "    <path d=\"M0 0h24v24H0V0z\" fill=\"none\"/>\n",
              "    <path d=\"M18.56 5.44l.94 2.06.94-2.06 2.06-.94-2.06-.94-.94-2.06-.94 2.06-2.06.94zm-11 1L8.5 8.5l.94-2.06 2.06-.94-2.06-.94L8.5 2.5l-.94 2.06-2.06.94zm10 10l.94 2.06.94-2.06 2.06-.94-2.06-.94-.94-2.06-.94 2.06-2.06.94z\"/><path d=\"M17.41 7.96l-1.37-1.37c-.4-.4-.92-.59-1.43-.59-.52 0-1.04.2-1.43.59L10.3 9.45l-7.72 7.72c-.78.78-.78 2.05 0 2.83L4 21.41c.39.39.9.59 1.41.59.51 0 1.02-.2 1.41-.59l7.78-7.78 2.81-2.81c.8-.78.8-2.07 0-2.86zM5.41 20L4 18.59l7.72-7.72 1.47 1.35L5.41 20z\"/>\n",
              "  </svg>\n",
              "      </button>\n",
              "      \n",
              "  <style>\n",
              "    .colab-df-container {\n",
              "      display:flex;\n",
              "      flex-wrap:wrap;\n",
              "      gap: 12px;\n",
              "    }\n",
              "\n",
              "    .colab-df-convert {\n",
              "      background-color: #E8F0FE;\n",
              "      border: none;\n",
              "      border-radius: 50%;\n",
              "      cursor: pointer;\n",
              "      display: none;\n",
              "      fill: #1967D2;\n",
              "      height: 32px;\n",
              "      padding: 0 0 0 0;\n",
              "      width: 32px;\n",
              "    }\n",
              "\n",
              "    .colab-df-convert:hover {\n",
              "      background-color: #E2EBFA;\n",
              "      box-shadow: 0px 1px 2px rgba(60, 64, 67, 0.3), 0px 1px 3px 1px rgba(60, 64, 67, 0.15);\n",
              "      fill: #174EA6;\n",
              "    }\n",
              "\n",
              "    [theme=dark] .colab-df-convert {\n",
              "      background-color: #3B4455;\n",
              "      fill: #D2E3FC;\n",
              "    }\n",
              "\n",
              "    [theme=dark] .colab-df-convert:hover {\n",
              "      background-color: #434B5C;\n",
              "      box-shadow: 0px 1px 3px 1px rgba(0, 0, 0, 0.15);\n",
              "      filter: drop-shadow(0px 1px 2px rgba(0, 0, 0, 0.3));\n",
              "      fill: #FFFFFF;\n",
              "    }\n",
              "  </style>\n",
              "\n",
              "      <script>\n",
              "        const buttonEl =\n",
              "          document.querySelector('#df-779fdd50-e584-43b2-895b-548669a3c53d button.colab-df-convert');\n",
              "        buttonEl.style.display =\n",
              "          google.colab.kernel.accessAllowed ? 'block' : 'none';\n",
              "\n",
              "        async function convertToInteractive(key) {\n",
              "          const element = document.querySelector('#df-779fdd50-e584-43b2-895b-548669a3c53d');\n",
              "          const dataTable =\n",
              "            await google.colab.kernel.invokeFunction('convertToInteractive',\n",
              "                                                     [key], {});\n",
              "          if (!dataTable) return;\n",
              "\n",
              "          const docLinkHtml = 'Like what you see? Visit the ' +\n",
              "            '<a target=\"_blank\" href=https://colab.research.google.com/notebooks/data_table.ipynb>data table notebook</a>'\n",
              "            + ' to learn more about interactive tables.';\n",
              "          element.innerHTML = '';\n",
              "          dataTable['output_type'] = 'display_data';\n",
              "          await google.colab.output.renderOutput(dataTable, element);\n",
              "          const docLink = document.createElement('div');\n",
              "          docLink.innerHTML = docLinkHtml;\n",
              "          element.appendChild(docLink);\n",
              "        }\n",
              "      </script>\n",
              "    </div>\n",
              "  </div>\n",
              "  "
            ]
          },
          "metadata": {},
          "execution_count": 40
        }
      ]
    },
    {
      "cell_type": "markdown",
      "source": [
        "Ajuste de parametros del método"
      ],
      "metadata": {
        "id": "OfQR0wsA7u_I"
      }
    },
    {
      "cell_type": "code",
      "source": [
        "b = 16\n",
        "r = n/b\n",
        "t = (1/b)**(1/r)\n",
        "print(f\"b: {b}\\nr: {r}\\nt: {t}\")"
      ],
      "metadata": {
        "id": "Lc_TuirL3SNk",
        "colab": {
          "base_uri": "https://localhost:8080/"
        },
        "outputId": "b356a0e6-cbae-4df1-c6b7-37740d4af8ce"
      },
      "execution_count": 41,
      "outputs": [
        {
          "output_type": "stream",
          "name": "stdout",
          "text": [
            "b: 16\n",
            "r: 4.0\n",
            "t: 0.5\n"
          ]
        }
      ]
    },
    {
      "cell_type": "code",
      "source": [
        "buckets = []\n",
        "for _ in range(b):\n",
        "  buckets.append({})"
      ],
      "metadata": {
        "id": "D2XGVHjb9qvk"
      },
      "execution_count": 42,
      "outputs": []
    },
    {
      "cell_type": "markdown",
      "source": [
        "Función que realiza el hasing usando el concepto de colisiones en un diccionario"
      ],
      "metadata": {
        "id": "tSMxN4xJ71tn"
      }
    },
    {
      "cell_type": "code",
      "source": [
        "def add_hash(row, bucket_index, r):\n",
        "  signature = row[\"signature\"].split()\n",
        "  lower = int(bucket_index*r)\n",
        "  upper = int((bucket_index+1)*r)\n",
        "  signature = signature[lower:upper]\n",
        "  signature = \" \".join(signature)\n",
        "  if signature not in buckets[bucket_index]:\n",
        "    buckets[bucket_index][signature] = set()\n",
        "\n",
        "  buckets[bucket_index][signature].add(row.name)"
      ],
      "metadata": {
        "id": "EPhu2Ehh-Hdk"
      },
      "execution_count": 43,
      "outputs": []
    },
    {
      "cell_type": "code",
      "source": [
        "for i in range(b):\n",
        "  data.apply(lambda row: add_hash(row, i, r), axis=1)"
      ],
      "metadata": {
        "id": "af8928sbIE1g"
      },
      "execution_count": 44,
      "outputs": []
    },
    {
      "cell_type": "markdown",
      "source": [
        "Se eliminan todos los hashes que tengan menos de 5 tweets"
      ],
      "metadata": {
        "id": "eUOrUe9o7-je"
      }
    },
    {
      "cell_type": "code",
      "source": [
        "clean_buckets = []\n",
        "for bucket in buckets:\n",
        "  bucket_copy = bucket.copy()\n",
        "  for sig in bucket:\n",
        "    if len(bucket[sig]) <= 5:\n",
        "      bucket_copy.pop(sig)\n",
        "  clean_buckets.append(bucket_copy)"
      ],
      "metadata": {
        "id": "58cpwxLJuaS5"
      },
      "execution_count": 45,
      "outputs": []
    },
    {
      "cell_type": "code",
      "source": [
        "len(clean_buckets[0])"
      ],
      "metadata": {
        "colab": {
          "base_uri": "https://localhost:8080/"
        },
        "id": "XdI0Q1iHpBGm",
        "outputId": "ba17ab44-b232-4449-9b26-00848ab3dac6"
      },
      "execution_count": 46,
      "outputs": [
        {
          "output_type": "execute_result",
          "data": {
            "text/plain": [
              "10710"
            ]
          },
          "metadata": {},
          "execution_count": 46
        }
      ]
    },
    {
      "cell_type": "markdown",
      "source": [
        "Se genera una tabla de hashing en que la llave es la firma del tweet y los valore son todos los usuarios que colisionaron en esa firma"
      ],
      "metadata": {
        "id": "QxEhEo428GBO"
      }
    },
    {
      "cell_type": "code",
      "source": [
        "user_buckets = []\n",
        "for bucket in clean_buckets:\n",
        "  bucket_user = {}\n",
        "  for sig in bucket:\n",
        "    if sig not in bucket_user:\n",
        "      bucket_user[sig] = set()\n",
        "    for row_idx in bucket[sig]:\n",
        "      bucket_user[sig].add(data.loc[row_idx][\"user\"])\n",
        "  user_buckets.append(bucket_user)"
      ],
      "metadata": {
        "id": "0A9Qbn1qNLG7"
      },
      "execution_count": 47,
      "outputs": []
    },
    {
      "cell_type": "code",
      "source": [
        "user_buckets[0]"
      ],
      "metadata": {
        "id": "5Q5dcAh70-3x"
      },
      "execution_count": null,
      "outputs": []
    },
    {
      "cell_type": "markdown",
      "source": [
        "Se buscan los usuarios que mas se repiten dentro de cada bucket. En este caso, intersectando los conjuntos de usuarios para cada firma, hasta mantener una cantidad especifica. En este caso 5 usuarios."
      ],
      "metadata": {
        "id": "8LUkUUKH8PEE"
      }
    },
    {
      "cell_type": "code",
      "source": [
        "top_users = []\n",
        "for bucket in user_buckets:\n",
        "  inter_global = set(data[\"user\"])\n",
        "  for sig in bucket:\n",
        "    tmp = inter_global.intersection(bucket[sig])\n",
        "    if len(tmp) < 5:\n",
        "      continue\n",
        "    else:\n",
        "      inter_global = tmp\n",
        "  top_users.append(inter_global)"
      ],
      "metadata": {
        "id": "f5S67ADAyBHn"
      },
      "execution_count": 49,
      "outputs": []
    },
    {
      "cell_type": "code",
      "source": [
        "top_users"
      ],
      "metadata": {
        "id": "wJxW02fzyFEG"
      },
      "execution_count": null,
      "outputs": []
    },
    {
      "cell_type": "markdown",
      "source": [
        "Entre cada hash, se buscan los ids de los tweets que pertenecen a los usuarios encontrados como más frecuentes."
      ],
      "metadata": {
        "id": "zTEATLMu8hin"
      }
    },
    {
      "cell_type": "code",
      "source": [
        "top_sigs_buckets = []\n",
        "for i in range(len(clean_buckets)):\n",
        "  top = top_users[i]\n",
        "  bucket = clean_buckets[i]\n",
        "  sig_bucket = {}\n",
        "  top_idxs = set(data[data['user'].isin(top)].index.tolist())\n",
        "  for sig in bucket:\n",
        "    sig_idxs = set(bucket[sig])\n",
        "    inter = top_idxs.intersection(sig_idxs)\n",
        "    users = data.loc[list(inter)][\"user\"]\n",
        "    if len(users) > 1:\n",
        "      sig_bucket[sig] = inter \n",
        "  top_sigs_buckets.append(sig_bucket)"
      ],
      "metadata": {
        "id": "lr1HM-w6y0gc"
      },
      "execution_count": 51,
      "outputs": []
    },
    {
      "cell_type": "code",
      "source": [
        "top_sigs_buckets[0]"
      ],
      "metadata": {
        "id": "IN8ZCnTl0qD-"
      },
      "execution_count": null,
      "outputs": []
    },
    {
      "cell_type": "code",
      "source": [
        "data = data[[\"user\", \"text\"]]"
      ],
      "metadata": {
        "id": "sZ4HR8le4FgZ"
      },
      "execution_count": 53,
      "outputs": []
    },
    {
      "cell_type": "markdown",
      "source": [
        "Se imprimen los tweets de los usuarios mas frecuentes por bucket."
      ],
      "metadata": {
        "id": "5_GMRnLg8ptI"
      }
    },
    {
      "cell_type": "code",
      "source": [
        "bucket = 1\n",
        "tmp_keys = list(top_sigs_buckets[bucket].keys())\n",
        "for i in range(len(tmp_keys)):\n",
        "  sign = tmp_keys[i]\n",
        "  print(data.loc[list(top_sigs_buckets[bucket][sign])])\n",
        "  print(\"--------------------------------------------------\")"
      ],
      "metadata": {
        "colab": {
          "base_uri": "https://localhost:8080/"
        },
        "id": "TTns4JFV0r-U",
        "outputId": "325fde62-27e6-46bf-b502-f0c83182edd1"
      },
      "execution_count": 55,
      "outputs": [
        {
          "output_type": "stream",
          "name": "stdout",
          "text": [
            "                    user                                text\n",
            "3089315    GODPorSiempre                           excelente\n",
            "2405928        edotrigol                           excelente\n",
            "4037802        edotrigol                           excelente\n",
            "1697035  gloria_patriota  excelente rechazoelplurimamarracho\n",
            "2487629  Veronic30786311                           excelente\n",
            "4197678        edotrigol                          excelente \n",
            "563920        Eskol69903                          excelente \n",
            "3904978      jescorpionz                           excelente\n",
            "564947            yplaza                          excelente \n",
            "2622935     michel778899                           excelente\n",
            "1399801        edotrigol                           excelente\n",
            "2320411  MarioPu22321263                           excelente\n",
            "2608316        edotrigol                           excelente\n",
            "857438   gloria_patriota                          excelente \n",
            "4391007        edotrigol                          excelente \n",
            "--------------------------------------------------\n",
            "                    user text\n",
            "387073       jescorpionz     \n",
            "2246659        edotrigol     \n",
            "1585156  gloria_patriota     \n",
            "4491781  gloria_patriota     \n",
            "3462150           yplaza     \n",
            "...                  ...  ...\n",
            "2774010  gloria_patriota     \n",
            "2681339  MarioPu22321263     \n",
            "1699836  gloria_patriota     \n",
            "3371517        edotrigol     \n",
            "3945471        edotrigol     \n",
            "\n",
            "[303 rows x 2 columns]\n",
            "--------------------------------------------------\n",
            "                    user                                               text\n",
            "4314310  MarioPu22321263  ya estamos completamente decepcionado fijate m...\n",
            "4493062       Eskol69903  no le pidas mas a si es mapuche de utileria en...\n",
            "3435913  Veronic30786311  frescos de  cafiches de nosotros con mas rabia...\n",
            "1797322           yplaza  bassa es un lobo con piel de oveja ni mas ni m...\n",
            "2295118      jescorpionz  no es necesario un liderazgo cada uno de los c...\n",
            "4044974    GODPorSiempre  que manera de ser populistas haran florecer el...\n",
            "2209879  gloria_patriota  qepd al derecho de propiedad cada dia con mas ...\n",
            "4432665     michel778899  nunca mas sin nosotro palabra clave de que dem...\n",
            "3622397        edotrigol  par de secos y adorables vamos con todo que el...\n",
            "--------------------------------------------------\n",
            "                    user                         text\n",
            "1285792  gloria_patriota          rechazoelmamarracho\n",
            "429990     GODPorSiempre          rechazoelmamarracho\n",
            "542571        Eskol69903          rechazoelmamarracho\n",
            "2535374       Eskol69903          rechazoelmamarracho\n",
            "3369106       Eskol69903          rechazoelmamarracho\n",
            "636979        Eskol69903          rechazoelmamarracho\n",
            "971671   gloria_patriota  rechazoelmamarracho rechazo\n",
            "--------------------------------------------------\n",
            "                    user      text\n",
            "1801408  MarioPu22321263  jajajaja\n",
            "1856398  MarioPu22321263  jajajaja\n",
            "--------------------------------------------------\n",
            "                    user                text\n",
            "1767512    GODPorSiempre  circoconstituyente\n",
            "2915588    GODPorSiempre  circoconstituyente\n",
            "2822077  gloria_patriota  circoconstituyente\n",
            "--------------------------------------------------\n",
            "                    user      text\n",
            "3194370    GODPorSiempre   rechazo\n",
            "239622            yplaza   rechazo\n",
            "3738119  MarioPu22321263   rechazo\n",
            "3436170  gloria_patriota   rechazo\n",
            "3286030  MarioPu22321263   rechazo\n",
            "3048598           yplaza   rechazo\n",
            "4481055           yplaza  rechazo \n",
            "3092133     michel778899   rechazo\n",
            "2695337  Veronic30786311   rechazo\n",
            "4196139           yplaza  rechazo \n",
            "503854            yplaza   rechazo\n",
            "2808369     michel778899   rechazo\n",
            "3772979  Veronic30786311   rechazo\n",
            "1917248    GODPorSiempre   rechazo\n",
            "3281477      jescorpionz   rechazo\n",
            "3618758        edotrigol   rechazo\n",
            "3048909           yplaza  rechazo \n",
            "2633944    GODPorSiempre   rechazo\n",
            "2813664    GODPorSiempre   rechazo\n",
            "3901159  MarioPu22321263   rechazo\n",
            "2808939     michel778899   rechazo\n",
            "635757            yplaza   rechazo\n",
            "7153              yplaza   rechazo\n",
            "3194353    GODPorSiempre   rechazo\n",
            "3415031           yplaza  rechazo \n",
            "2818303       Eskol69903   rechazo\n",
            "--------------------------------------------------\n",
            "                    user                                      text\n",
            "298896   gloria_patriota                             rechazocrece \n",
            "3273402  gloria_patriota  rechazoladestrucciondechile rechazocrece\n",
            "519475   gloria_patriota                              rechazocrece\n",
            "--------------------------------------------------\n",
            "                    user                                         text\n",
            "3786880       Eskol69903                           yo rechazodesalida\n",
            "1002299     michel778899                              rechazodesalida\n",
            "1430690       Eskol69903                              rechazodesalida\n",
            "4498587  gloria_patriota  rechazoladestrucciondechile rechazodesalida\n",
            "770191   gloria_patriota                             rechazodesalida \n",
            "127959     GODPorSiempre                              rechazodesalida\n",
            "3273371  gloria_patriota  rechazoladestrucciondechile rechazodesalida\n",
            "--------------------------------------------------\n",
            "                    user                                               text\n",
            "2899433  Veronic30786311                                    rechazo es una \n",
            "1248237      jescorpionz               el circo constituyente es una mierda\n",
            "2679698  gloria_patriota                                       una cdr dona\n",
            "2691380  Veronic30786311  una real  la convencionconstitucional rechazos...\n",
            "3653465    GODPorSiempre                                  es una verguenza \n",
            "325689   gloria_patriota  una maldita comunista 5toretiro rechazoganael4...\n",
            "36220    gloria_patriota      la cc es una verguenza nacional rechazo total\n",
            "--------------------------------------------------\n",
            "               user                  text\n",
            "362345   Eskol69903   rechazodesalida2022\n",
            "2620164  Eskol69903   rechazodesalida2022\n",
            "--------------------------------------------------\n",
            "                 user        text\n",
            "3413193  michel778899  yo rechazo\n",
            "179676   michel778899  yo rechazo\n",
            "--------------------------------------------------\n",
            "                    user                                               text\n",
            "3926483    GODPorSiempre  claro son facil para adoctrinarlos se imaginan...\n",
            "427559   gloria_patriota  claro que no ya que se moraran antes sin atenc...\n",
            "--------------------------------------------------\n",
            "                   user                                               text\n",
            "191200  Veronic30786311  como estan las ladr0nas de tus hermanas y el b...\n",
            "796588  Veronic30786311  sigue el ejemplo de tu amigo llamalo para que ...\n",
            "--------------------------------------------------\n",
            "                  user                                               text\n",
            "2816        Eskol69903  tendremos una burocracia gigantesca financiada...\n",
            "4168220  GODPorSiempre             yo quiero una foto de esas con la tere\n",
            "3309461   michel778899  un mamarracho con una constitucion de lujo no ...\n",
            "--------------------------------------------------\n",
            "                   user                                               text\n",
            "883034  gloria_patriota                                 gobiernodeinutiles\n",
            "950942    GODPorSiempre  gobiernodeinutiles gobiernocriminalcorruptoyme...\n",
            "--------------------------------------------------\n",
            "                    user                                               text\n",
            "1807732  gloria_patriota                     se tira flores solo que tierno\n",
            "1594541  gloria_patriota  grande tere estos esperpentos solo se atreven ...\n",
            "--------------------------------------------------\n",
            "                  user              text\n",
            "2764808   michel778899  sevieneelzarpazo\n",
            "945843   GODPorSiempre  sevieneelzarpazo\n",
            "--------------------------------------------------\n",
            "                    user                         text\n",
            "4504288       Eskol69903   rechazoganael4deseptiembre\n",
            "1938953  gloria_patriota   rechazoganael4deseptiembre\n",
            "111051     GODPorSiempre   rechazoganael4deseptiembre\n",
            "1339788    GODPorSiempre   rechazoganael4deseptiembre\n",
            "1136368    GODPorSiempre   rechazoganael4deseptiembre\n",
            "--------------------------------------------------\n",
            "                    user                        text\n",
            "3921881  Veronic30786311  bla bla bla r e c h a z o \n",
            "4199548  gloria_patriota               r e c h a z o\n",
            "--------------------------------------------------\n",
            "              user              text\n",
            "1201529  edotrigol  apruebodesalida \n",
            "1276074  edotrigol   apruebodesalida\n",
            "4081629  edotrigol   apruebodesalida\n",
            "--------------------------------------------------\n",
            "              user                                     text\n",
            "629258  Eskol69903  rechazocrece rechazo convenciontramposa\n",
            "13060   Eskol69903  rechazocrece rechazo convenciontramposa\n",
            "12581   Eskol69903  rechazocrece rechazo convenciontramposa\n",
            "--------------------------------------------------\n",
            "                    user                                  text\n",
            "1211392      jescorpionz           el 4s a una rayita de esto \n",
            "472843   gloria_patriota  \"cronica de una dictadura anunciada\"\n",
            "--------------------------------------------------\n",
            "                  user          text\n",
            "2715690  GODPorSiempre  chilerechaza\n",
            "3496819  GODPorSiempre  chilerechaza\n",
            "3780933  GODPorSiempre  chilerechaza\n",
            "3474263  GODPorSiempre  chilerechaza\n",
            "--------------------------------------------------\n",
            "              user                           text\n",
            "837273   edotrigol           se llama democracia \n",
            "1412602  edotrigol  tomas eso se llama democracia\n",
            "14077    edotrigol     se llama democracia senora\n",
            "--------------------------------------------------\n",
            "               user       text\n",
            "3096161   edotrigol  mentiroso\n",
            "1385595  Eskol69903  mentiroso\n",
            "2892815   edotrigol  mentiroso\n",
            "--------------------------------------------------\n",
            "              user                         text\n",
            "565048   edotrigol  apruebo nueva constitucion \n",
            "1449186  edotrigol   apruebo nueva constitucion\n",
            "--------------------------------------------------\n",
            "             user                        text\n",
            "18464   edotrigol        asi es la democracia\n",
            "632399  edotrigol  asi funciona la democracia\n",
            "--------------------------------------------------\n",
            "                    user             text\n",
            "3627475    GODPorSiempre  rechazoporchile\n",
            "1108325  Veronic30786311  rechazoporchile\n",
            "3442807    GODPorSiempre  rechazoporchile\n",
            "--------------------------------------------------\n",
            "                    user                   text\n",
            "2551048  gloria_patriota  totalmente de acuerdo\n",
            "1799898        edotrigol  totalmente de acuerdo\n",
            "--------------------------------------------------\n",
            "                    user               text\n",
            "3524290    GODPorSiempre  rechazosalvachile\n",
            "2456046  gloria_patriota  rechazosalvachile\n",
            "--------------------------------------------------\n",
            "                    user                      text\n",
            "1275042  gloria_patriota  rechazoelplurimamarracho\n",
            "1285859  gloria_patriota  rechazoelplurimamarracho\n",
            "1760162  gloria_patriota  rechazoelplurimamarracho\n",
            "1887590  gloria_patriota  rechazoelplurimamarracho\n",
            "2099654  gloria_patriota  rechazoelplurimamarracho\n",
            "1734600  gloria_patriota  rechazoelplurimamarracho\n",
            "1687727  gloria_patriota  rechazoelplurimamarracho\n",
            "2250032  gloria_patriota  rechazoelplurimamarracho\n",
            "1960848  gloria_patriota  rechazoelplurimamarracho\n",
            "1432478     michel778899  rechazoelplurimamarracho\n",
            "4336564  gloria_patriota  rechazoelplurimamarracho\n",
            "4078008  gloria_patriota  rechazoelplurimamarracho\n",
            "2605692  gloria_patriota  rechazoelplurimamarracho\n",
            "3168830        edotrigol  rechazoelplurimamarracho\n",
            "--------------------------------------------------\n",
            "                    user               text\n",
            "3791808  gloria_patriota           callate \n",
            "2947004  Veronic30786311  callate flojoqlio\n",
            "--------------------------------------------------\n",
            "                    user                           text\n",
            "2110979       Eskol69903   rechazoelmamarrachocomunista\n",
            "3895014    GODPorSiempre   rechazoelmamarrachocomunista\n",
            "2822087  gloria_patriota   rechazoelmamarrachocomunista\n",
            "1484520  gloria_patriota   rechazoelmamarrachocomunista\n",
            "1181993  gloria_patriota   rechazoelmamarrachocomunista\n",
            "900371        Eskol69903   rechazoelmamarrachocomunista\n",
            "1201141  gloria_patriota   rechazoelmamarrachocomunista\n",
            "1585046  gloria_patriota   rechazoelmamarrachocomunista\n",
            "2290935  gloria_patriota   rechazoelmamarrachocomunista\n",
            "2210650     michel778899   rechazoelmamarrachocomunista\n",
            "4340893  gloria_patriota  rechazoelmamarrachocomunista \n",
            "1326175  gloria_patriota   rechazoelmamarrachocomunista\n",
            "--------------------------------------------------\n",
            "                    user                text\n",
            "3599917  gloria_patriota  rechazotransversal\n",
            "539213     GODPorSiempre  rechazotransversal\n",
            "2633942    GODPorSiempre  rechazotransversal\n",
            "4393018    GODPorSiempre  rechazotransversal\n",
            "32702       michel778899  rechazotransversal\n",
            "--------------------------------------------------\n",
            "              user     text\n",
            "274568      yplaza   exacto\n",
            "506232  Eskol69903  exacto \n",
            "--------------------------------------------------\n",
            "              user                      text\n",
            "2396584  edotrigol  apruebonuevaconstitucion\n",
            "2003634  edotrigol  apruebonuevaconstitucion\n",
            "2664250  edotrigol  apruebonuevaconstitucion\n",
            "2420447  edotrigol  apruebonuevaconstitucion\n",
            "--------------------------------------------------\n",
            "                   user                                               text\n",
            "885666  gloria_patriota  le han declarado la guerra a su propio pueblo ...\n",
            "228986       Eskol69903  le han declarado la guerra a su propio pueblo ...\n",
            "--------------------------------------------------\n",
            "              user                  text\n",
            "3286787  edotrigol  apruebo4deseptiembre\n",
            "1634691  edotrigol  apruebo4deseptiembre\n",
            "405261   edotrigol  apruebo4deseptiembre\n",
            "1675893  edotrigol  apruebo4deseptiembre\n",
            "3618872  edotrigol  apruebo4deseptiembre\n",
            "2208923  edotrigol  apruebo4deseptiembre\n",
            "2664412  edotrigol  apruebo4deseptiembre\n",
            "--------------------------------------------------\n",
            "                   user                    text\n",
            "48522   gloria_patriota  boricverdugoclasemedia\n",
            "665710  gloria_patriota  boricverdugoclasemedia\n",
            "868474  gloria_patriota  boricverdugoclasemedia\n",
            "--------------------------------------------------\n",
            "                    user                                         text\n",
            "3272597  gloria_patriota  sin comentarios rechazoladestrucciondechile\n",
            "3928630        edotrigol                              sin comentarios\n",
            "--------------------------------------------------\n",
            "                   user              text\n",
            "696966     michel778899   chilesedefiende\n",
            "299751  gloria_patriota  chilesedefiende \n",
            "--------------------------------------------------\n",
            "              user      text\n",
            "2965272  edotrigol  apruebo \n",
            "2208633  edotrigol   apruebo\n",
            "4393739  edotrigol  apruebo \n",
            "1394147  edotrigol   apruebo\n",
            "--------------------------------------------------\n",
            "                    user     text\n",
            "2712445        edotrigol   grande\n",
            "3222165  gloria_patriota  grande \n",
            "--------------------------------------------------\n",
            "                user                 text\n",
            "1860856  jescorpionz  y la casa de todos \n",
            "3465858    edotrigol   y la casa de todos\n",
            "--------------------------------------------------\n",
            "              user                                  text\n",
            "2490828  edotrigol                         de no creerlo\n",
            "1209629  edotrigol  y no hablo de rechazo aprende a leer\n",
            "--------------------------------------------------\n",
            "           user                                     text\n",
            "1585384  yplaza  chile es y sera siempre una sola nacion\n",
            "150275   yplaza          chile es y sera una sola nacion\n",
            "--------------------------------------------------\n",
            "              user       text\n",
            "4446257  edotrigol    hermoso\n",
            "1394153  edotrigol  hermoso  \n",
            "--------------------------------------------------\n",
            "                    user                                               text\n",
            "1075490  gloria_patriota  rechazoelplurimamarracho rechazoelmamarracho r...\n",
            "1071495  gloria_patriota  rechazoelplurimamarracho rechazoelmamarracho r...\n",
            "2091571  gloria_patriota  rechazoelplurimamarracho rechazoelmamarracho r...\n",
            "1891669  gloria_patriota  constituyentestramposos rechazoelplurimamarrac...\n",
            "2091576  gloria_patriota  rechazoelplurimamarracho rechazoelmamarracho r...\n",
            "1887641  gloria_patriota  rechazoelplurimamarracho rechazoelmamarracho r...\n",
            "1887642  gloria_patriota  rechazoelplurimamarracho rechazoelmamarracho r...\n",
            "--------------------------------------------------\n",
            "              user             text\n",
            "1070108  edotrigol  muchas gracias \n",
            "1886207  edotrigol   muchas gracias\n",
            "--------------------------------------------------\n",
            "                    user          text\n",
            "600601   MarioPu22321263  sinverguenza\n",
            "1630079  MarioPu22321263  sinverguenza\n",
            "--------------------------------------------------\n",
            "              user         text\n",
            "3427789  edotrigol  maravilloso\n",
            "3580261  edotrigol  maravilloso\n",
            "2965191  edotrigol  maravilloso\n",
            "--------------------------------------------------\n",
            "                   user        text\n",
            "677310  gloria_patriota  fueraizkia\n",
            "60791   gloria_patriota  fueraizkia\n",
            "--------------------------------------------------\n",
            "              user      text\n",
            "4484668  edotrigol  racista \n",
            "3618525  edotrigol   racista\n",
            "--------------------------------------------------\n",
            "                  user              text\n",
            "3397122  GODPorSiempre  rechazo y punto \n",
            "2436855  GODPorSiempre   rechazo y punto\n",
            "3396825  GODPorSiempre   rechazo y punto\n",
            "3194074  GODPorSiempre   rechazo y punto\n",
            "1862649  GODPorSiempre   rechazo y punto\n",
            "--------------------------------------------------\n",
            "              user                     text\n",
            "3628893  edotrigol   excelente intervencion\n",
            "4350078     yplaza  excelente intervencion \n",
            "--------------------------------------------------\n",
            "              user                                               text\n",
            "2490850  edotrigol  la derecha esta histerica se les esta yendo su...\n",
            "3772791  edotrigol  que me importa que vote o no y despues se quej...\n",
            "--------------------------------------------------\n",
            "                    user                                              text\n",
            "2312298  gloria_patriota  rechazodesalida2022 rechazoelmamarrachocomunista\n",
            "4344027       Eskol69903  rechazoelmamarrachocomunista rechazodesalida2022\n",
            "--------------------------------------------------\n",
            "               user                                               text\n",
            "1759383  Eskol69903  increible la paciencia de y con la ignorante d...\n",
            "3486239   edotrigol  aaaah pero con la santificada y unificadora co...\n",
            "--------------------------------------------------\n",
            "                    user                                               text\n",
            "2367612  gloria_patriota  rechazoladestrucciondechile rechazoelmamarrach...\n",
            "4008015  gloria_patriota  rechazoelmamarrachocomunista rechazoladestrucc...\n",
            "--------------------------------------------------\n",
            "                    user                         text\n",
            "2548905       Eskol69903  rechazoladestrucciondechile\n",
            "1868046  gloria_patriota  rechazoladestrucciondechile\n",
            "--------------------------------------------------\n",
            "                    user                    text\n",
            "2816064  gloria_patriota  rechazoel4deseptiembre\n",
            "4082339  gloria_patriota  rechazoel4deseptiembre\n",
            "2458671       Eskol69903  rechazoel4deseptiembre\n",
            "2605685  gloria_patriota  rechazoel4deseptiembre\n",
            "1765752       Eskol69903  rechazoel4deseptiembre\n",
            "3025597       Eskol69903  rechazoel4deseptiembre\n",
            "2603422     michel778899  rechazoel4deseptiembre\n",
            "1646431  gloria_patriota  rechazoel4deseptiembre\n",
            "--------------------------------------------------\n",
            "                    user           text\n",
            "1662411  gloria_patriota  rechazoxchile\n",
            "1044589      jescorpionz  rechazoxchile\n",
            "2057963  gloria_patriota  rechazoxchile\n",
            "--------------------------------------------------\n",
            "                    user                                 text\n",
            "3438315    GODPorSiempre               499razonespararechazar\n",
            "2678964  gloria_patriota  499razonespararechazar esaeslatere \n",
            "--------------------------------------------------\n",
            "                    user         text\n",
            "1685324  gloria_patriota  que asi sea\n",
            "200253         edotrigol  que asi sea\n",
            "--------------------------------------------------\n",
            "              user                           text\n",
            "2523233  edotrigol             dejate de dar jugo\n",
            "220894   edotrigol  dejate de dar jugo  fracasada\n",
            "--------------------------------------------------\n",
            "           user                                 text\n",
            "3083679  yplaza  un perfecto lobo con piel de oveja \n",
            "3276850  yplaza            un lobo con piel de oveja\n",
            "711557   yplaza            un lobo con piel de oveja\n",
            "253869   yplaza       un buen lobo con piel de oveja\n",
            "--------------------------------------------------\n",
            "                    user            text\n",
            "2830668  gloria_patriota  evidentemente \n",
            "1863391       Eskol69903   evidentemente\n",
            "--------------------------------------------------\n",
            "                    user                                             text\n",
            "4078259  gloria_patriota  rechazoelplurimamarracho rechazoel4deseptiembre\n",
            "1138366  gloria_patriota  rechazoel4deseptiembre rechazoelplurimamarracho\n",
            "--------------------------------------------------\n",
            "              user                                         text\n",
            "1290631  edotrigol     todo mi respeto y admiracion a la dra 15\n",
            "1879577  edotrigol  todo mi respeto y admiracion a la dra bonus\n",
            "1063511  edotrigol     todo mi respeto y admiracion a la dra 15\n",
            "--------------------------------------------------\n",
            "                    user                                               text\n",
            "1887618  gloria_patriota         rechazoelplurimamarracho rechazosalvachile\n",
            "1075492  gloria_patriota  bessychantamentirosa rechazosalvachile rechazo...\n",
            "2096101  gloria_patriota         rechazoelplurimamarracho rechazosalvachile\n",
            "2102451  gloria_patriota         rechazoelplurimamarracho rechazosalvachile\n",
            "1687767  gloria_patriota         rechazoelplurimamarracho rechazosalvachile\n",
            "1971676  gloria_patriota         rechazosalvachile rechazoelplurimamarracho\n",
            "--------------------------------------------------\n",
            "              user                                             text\n",
            "4446216  edotrigol               por el bien de chile a p r u e b o\n",
            "3429675  edotrigol  hoy renacemospor el bien de chile a p r u e b o\n",
            "--------------------------------------------------\n",
            "                    user                           text\n",
            "1225592  gloria_patriota  rechazo el mamarrachoenganoso\n",
            "1412475  gloria_patriota  rechazo el mamarrachoenganoso\n",
            "2231973  gloria_patriota  rechazo el mamarrachoenganoso\n",
            "2234926  gloria_patriota  rechazo el mamarrachoenganoso\n",
            "--------------------------------------------------\n",
            "                    user                             text\n",
            "1250417  gloria_patriota  rechazosalvachile rechazoxchile\n",
            "3219981  gloria_patriota  rechazoxchile rechazosalvachile\n",
            "--------------------------------------------------\n",
            "              user              text\n",
            "4390988  edotrigol   apruebosinmiedo\n",
            "2405901  edotrigol  apruebosinmiedo \n",
            "--------------------------------------------------\n",
            "                    user                                               text\n",
            "3118772  gloria_patriota  nomasplazo izkiahaztecargo estadodeexcepcionar...\n",
            "2359535  gloria_patriota  nomasplazo izkiahaztecargo estadodeexcepcionar...\n",
            "--------------------------------------------------\n",
            "                  user              text\n",
            "2723585  GODPorSiempre   !!chilerechaza \n",
            "3487082  GODPorSiempre   !!chilerechaza \n",
            "--------------------------------------------------\n",
            "              user                   text\n",
            "3835528  edotrigol  aprueben indicaciones\n",
            "3528777  edotrigol  aprueben indicaciones\n",
            "4547684  edotrigol  aprueben indicaciones\n",
            "--------------------------------------------------\n",
            "                  user                      text\n",
            "3946030      edotrigol          todossomosmrwolf\n",
            "3470622  GODPorSiempre  cobarde todossomosmrwolf\n",
            "--------------------------------------------------\n"
          ]
        }
      ]
    },
    {
      "cell_type": "code",
      "source": [],
      "metadata": {
        "id": "5Nj62_g138Ng"
      },
      "execution_count": 54,
      "outputs": []
    }
  ]
}